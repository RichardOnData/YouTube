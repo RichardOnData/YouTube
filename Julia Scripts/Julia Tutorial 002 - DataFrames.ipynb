{
 "cells": [
  {
   "cell_type": "markdown",
   "metadata": {},
   "source": [
    "## Julia Tutorial 002: DataFrames"
   ]
  },
  {
   "cell_type": "markdown",
   "metadata": {},
   "source": [
    "In this tutorial we will walk through how to: extract valuable summaries, rename columns, select columns, filter rows, sort rows, mutate the dataset to create new variables, join datasets, and create grouped summaries.   DataFrames.jl is a package in Julia that will help you manipulate data.   We will use the \"mtcars\" dataset from the RDatasets.jl package.    We will also make limited use of the StatsBase.jl package.  \n",
    "\n",
    "The DataFrames.jl documentation can be found here: https://juliadata.github.io/DataFrames.jl/stable/"
   ]
  },
  {
   "cell_type": "code",
   "execution_count": 1,
   "metadata": {
    "scrolled": true
   },
   "outputs": [],
   "source": [
    "#import Pkg\n",
    "#Pkg.add(\"DataFrames\")\n",
    "#Pkg.add(\"RDatasets\")\n",
    "#Pkg.add(\"StatsBase\")"
   ]
  },
  {
   "cell_type": "code",
   "execution_count": 2,
   "metadata": {},
   "outputs": [],
   "source": [
    "# Load required packages into the environment\n",
    "using DataFrames, RDatasets, StatsBase"
   ]
  },
  {
   "cell_type": "code",
   "execution_count": 3,
   "metadata": {},
   "outputs": [
    {
     "data": {
      "text/html": [
       "<table class=\"data-frame\"><thead><tr><th></th><th>Model</th><th>MPG</th><th>Cyl</th><th>Disp</th><th>HP</th><th>DRat</th><th>WT</th><th>QSec</th></tr><tr><th></th><th>String</th><th>Float64</th><th>Int64</th><th>Float64</th><th>Int64</th><th>Float64</th><th>Float64</th><th>Float64</th></tr></thead><tbody><p>32 rows × 12 columns (omitted printing of 4 columns)</p><tr><th>1</th><td>Mazda RX4</td><td>21.0</td><td>6</td><td>160.0</td><td>110</td><td>3.9</td><td>2.62</td><td>16.46</td></tr><tr><th>2</th><td>Mazda RX4 Wag</td><td>21.0</td><td>6</td><td>160.0</td><td>110</td><td>3.9</td><td>2.875</td><td>17.02</td></tr><tr><th>3</th><td>Datsun 710</td><td>22.8</td><td>4</td><td>108.0</td><td>93</td><td>3.85</td><td>2.32</td><td>18.61</td></tr><tr><th>4</th><td>Hornet 4 Drive</td><td>21.4</td><td>6</td><td>258.0</td><td>110</td><td>3.08</td><td>3.215</td><td>19.44</td></tr><tr><th>5</th><td>Hornet Sportabout</td><td>18.7</td><td>8</td><td>360.0</td><td>175</td><td>3.15</td><td>3.44</td><td>17.02</td></tr><tr><th>6</th><td>Valiant</td><td>18.1</td><td>6</td><td>225.0</td><td>105</td><td>2.76</td><td>3.46</td><td>20.22</td></tr><tr><th>7</th><td>Duster 360</td><td>14.3</td><td>8</td><td>360.0</td><td>245</td><td>3.21</td><td>3.57</td><td>15.84</td></tr><tr><th>8</th><td>Merc 240D</td><td>24.4</td><td>4</td><td>146.7</td><td>62</td><td>3.69</td><td>3.19</td><td>20.0</td></tr><tr><th>9</th><td>Merc 230</td><td>22.8</td><td>4</td><td>140.8</td><td>95</td><td>3.92</td><td>3.15</td><td>22.9</td></tr><tr><th>10</th><td>Merc 280</td><td>19.2</td><td>6</td><td>167.6</td><td>123</td><td>3.92</td><td>3.44</td><td>18.3</td></tr><tr><th>11</th><td>Merc 280C</td><td>17.8</td><td>6</td><td>167.6</td><td>123</td><td>3.92</td><td>3.44</td><td>18.9</td></tr><tr><th>12</th><td>Merc 450SE</td><td>16.4</td><td>8</td><td>275.8</td><td>180</td><td>3.07</td><td>4.07</td><td>17.4</td></tr><tr><th>13</th><td>Merc 450SL</td><td>17.3</td><td>8</td><td>275.8</td><td>180</td><td>3.07</td><td>3.73</td><td>17.6</td></tr><tr><th>14</th><td>Merc 450SLC</td><td>15.2</td><td>8</td><td>275.8</td><td>180</td><td>3.07</td><td>3.78</td><td>18.0</td></tr><tr><th>15</th><td>Cadillac Fleetwood</td><td>10.4</td><td>8</td><td>472.0</td><td>205</td><td>2.93</td><td>5.25</td><td>17.98</td></tr><tr><th>16</th><td>Lincoln Continental</td><td>10.4</td><td>8</td><td>460.0</td><td>215</td><td>3.0</td><td>5.424</td><td>17.82</td></tr><tr><th>17</th><td>Chrysler Imperial</td><td>14.7</td><td>8</td><td>440.0</td><td>230</td><td>3.23</td><td>5.345</td><td>17.42</td></tr><tr><th>18</th><td>Fiat 128</td><td>32.4</td><td>4</td><td>78.7</td><td>66</td><td>4.08</td><td>2.2</td><td>19.47</td></tr><tr><th>19</th><td>Honda Civic</td><td>30.4</td><td>4</td><td>75.7</td><td>52</td><td>4.93</td><td>1.615</td><td>18.52</td></tr><tr><th>20</th><td>Toyota Corolla</td><td>33.9</td><td>4</td><td>71.1</td><td>65</td><td>4.22</td><td>1.835</td><td>19.9</td></tr><tr><th>21</th><td>Toyota Corona</td><td>21.5</td><td>4</td><td>120.1</td><td>97</td><td>3.7</td><td>2.465</td><td>20.01</td></tr><tr><th>22</th><td>Dodge Challenger</td><td>15.5</td><td>8</td><td>318.0</td><td>150</td><td>2.76</td><td>3.52</td><td>16.87</td></tr><tr><th>23</th><td>AMC Javelin</td><td>15.2</td><td>8</td><td>304.0</td><td>150</td><td>3.15</td><td>3.435</td><td>17.3</td></tr><tr><th>24</th><td>Camaro Z28</td><td>13.3</td><td>8</td><td>350.0</td><td>245</td><td>3.73</td><td>3.84</td><td>15.41</td></tr><tr><th>25</th><td>Pontiac Firebird</td><td>19.2</td><td>8</td><td>400.0</td><td>175</td><td>3.08</td><td>3.845</td><td>17.05</td></tr><tr><th>26</th><td>Fiat X1-9</td><td>27.3</td><td>4</td><td>79.0</td><td>66</td><td>4.08</td><td>1.935</td><td>18.9</td></tr><tr><th>27</th><td>Porsche 914-2</td><td>26.0</td><td>4</td><td>120.3</td><td>91</td><td>4.43</td><td>2.14</td><td>16.7</td></tr><tr><th>28</th><td>Lotus Europa</td><td>30.4</td><td>4</td><td>95.1</td><td>113</td><td>3.77</td><td>1.513</td><td>16.9</td></tr><tr><th>29</th><td>Ford Pantera L</td><td>15.8</td><td>8</td><td>351.0</td><td>264</td><td>4.22</td><td>3.17</td><td>14.5</td></tr><tr><th>30</th><td>Ferrari Dino</td><td>19.7</td><td>6</td><td>145.0</td><td>175</td><td>3.62</td><td>2.77</td><td>15.5</td></tr><tr><th>&vellip;</th><td>&vellip;</td><td>&vellip;</td><td>&vellip;</td><td>&vellip;</td><td>&vellip;</td><td>&vellip;</td><td>&vellip;</td><td>&vellip;</td></tr></tbody></table>"
      ],
      "text/latex": [
       "\\begin{tabular}{r|ccccccccc}\n",
       "\t& Model & MPG & Cyl & Disp & HP & DRat & WT & QSec & \\\\\n",
       "\t\\hline\n",
       "\t& String & Float64 & Int64 & Float64 & Int64 & Float64 & Float64 & Float64 & \\\\\n",
       "\t\\hline\n",
       "\t1 & Mazda RX4 & 21.0 & 6 & 160.0 & 110 & 3.9 & 2.62 & 16.46 & $\\dots$ \\\\\n",
       "\t2 & Mazda RX4 Wag & 21.0 & 6 & 160.0 & 110 & 3.9 & 2.875 & 17.02 & $\\dots$ \\\\\n",
       "\t3 & Datsun 710 & 22.8 & 4 & 108.0 & 93 & 3.85 & 2.32 & 18.61 & $\\dots$ \\\\\n",
       "\t4 & Hornet 4 Drive & 21.4 & 6 & 258.0 & 110 & 3.08 & 3.215 & 19.44 & $\\dots$ \\\\\n",
       "\t5 & Hornet Sportabout & 18.7 & 8 & 360.0 & 175 & 3.15 & 3.44 & 17.02 & $\\dots$ \\\\\n",
       "\t6 & Valiant & 18.1 & 6 & 225.0 & 105 & 2.76 & 3.46 & 20.22 & $\\dots$ \\\\\n",
       "\t7 & Duster 360 & 14.3 & 8 & 360.0 & 245 & 3.21 & 3.57 & 15.84 & $\\dots$ \\\\\n",
       "\t8 & Merc 240D & 24.4 & 4 & 146.7 & 62 & 3.69 & 3.19 & 20.0 & $\\dots$ \\\\\n",
       "\t9 & Merc 230 & 22.8 & 4 & 140.8 & 95 & 3.92 & 3.15 & 22.9 & $\\dots$ \\\\\n",
       "\t10 & Merc 280 & 19.2 & 6 & 167.6 & 123 & 3.92 & 3.44 & 18.3 & $\\dots$ \\\\\n",
       "\t11 & Merc 280C & 17.8 & 6 & 167.6 & 123 & 3.92 & 3.44 & 18.9 & $\\dots$ \\\\\n",
       "\t12 & Merc 450SE & 16.4 & 8 & 275.8 & 180 & 3.07 & 4.07 & 17.4 & $\\dots$ \\\\\n",
       "\t13 & Merc 450SL & 17.3 & 8 & 275.8 & 180 & 3.07 & 3.73 & 17.6 & $\\dots$ \\\\\n",
       "\t14 & Merc 450SLC & 15.2 & 8 & 275.8 & 180 & 3.07 & 3.78 & 18.0 & $\\dots$ \\\\\n",
       "\t15 & Cadillac Fleetwood & 10.4 & 8 & 472.0 & 205 & 2.93 & 5.25 & 17.98 & $\\dots$ \\\\\n",
       "\t16 & Lincoln Continental & 10.4 & 8 & 460.0 & 215 & 3.0 & 5.424 & 17.82 & $\\dots$ \\\\\n",
       "\t17 & Chrysler Imperial & 14.7 & 8 & 440.0 & 230 & 3.23 & 5.345 & 17.42 & $\\dots$ \\\\\n",
       "\t18 & Fiat 128 & 32.4 & 4 & 78.7 & 66 & 4.08 & 2.2 & 19.47 & $\\dots$ \\\\\n",
       "\t19 & Honda Civic & 30.4 & 4 & 75.7 & 52 & 4.93 & 1.615 & 18.52 & $\\dots$ \\\\\n",
       "\t20 & Toyota Corolla & 33.9 & 4 & 71.1 & 65 & 4.22 & 1.835 & 19.9 & $\\dots$ \\\\\n",
       "\t21 & Toyota Corona & 21.5 & 4 & 120.1 & 97 & 3.7 & 2.465 & 20.01 & $\\dots$ \\\\\n",
       "\t22 & Dodge Challenger & 15.5 & 8 & 318.0 & 150 & 2.76 & 3.52 & 16.87 & $\\dots$ \\\\\n",
       "\t23 & AMC Javelin & 15.2 & 8 & 304.0 & 150 & 3.15 & 3.435 & 17.3 & $\\dots$ \\\\\n",
       "\t24 & Camaro Z28 & 13.3 & 8 & 350.0 & 245 & 3.73 & 3.84 & 15.41 & $\\dots$ \\\\\n",
       "\t25 & Pontiac Firebird & 19.2 & 8 & 400.0 & 175 & 3.08 & 3.845 & 17.05 & $\\dots$ \\\\\n",
       "\t26 & Fiat X1-9 & 27.3 & 4 & 79.0 & 66 & 4.08 & 1.935 & 18.9 & $\\dots$ \\\\\n",
       "\t27 & Porsche 914-2 & 26.0 & 4 & 120.3 & 91 & 4.43 & 2.14 & 16.7 & $\\dots$ \\\\\n",
       "\t28 & Lotus Europa & 30.4 & 4 & 95.1 & 113 & 3.77 & 1.513 & 16.9 & $\\dots$ \\\\\n",
       "\t29 & Ford Pantera L & 15.8 & 8 & 351.0 & 264 & 4.22 & 3.17 & 14.5 & $\\dots$ \\\\\n",
       "\t30 & Ferrari Dino & 19.7 & 6 & 145.0 & 175 & 3.62 & 2.77 & 15.5 & $\\dots$ \\\\\n",
       "\t$\\dots$ & $\\dots$ & $\\dots$ & $\\dots$ & $\\dots$ & $\\dots$ & $\\dots$ & $\\dots$ & $\\dots$ &  \\\\\n",
       "\\end{tabular}\n"
      ],
      "text/plain": [
       "32×12 DataFrame. Omitted printing of 6 columns\n",
       "│ Row │ Model             │ MPG     │ Cyl   │ Disp    │ HP    │ DRat    │\n",
       "│     │ \u001b[90mString\u001b[39m            │ \u001b[90mFloat64\u001b[39m │ \u001b[90mInt64\u001b[39m │ \u001b[90mFloat64\u001b[39m │ \u001b[90mInt64\u001b[39m │ \u001b[90mFloat64\u001b[39m │\n",
       "├─────┼───────────────────┼─────────┼───────┼─────────┼───────┼─────────┤\n",
       "│ 1   │ Mazda RX4         │ 21.0    │ 6     │ 160.0   │ 110   │ 3.9     │\n",
       "│ 2   │ Mazda RX4 Wag     │ 21.0    │ 6     │ 160.0   │ 110   │ 3.9     │\n",
       "│ 3   │ Datsun 710        │ 22.8    │ 4     │ 108.0   │ 93    │ 3.85    │\n",
       "│ 4   │ Hornet 4 Drive    │ 21.4    │ 6     │ 258.0   │ 110   │ 3.08    │\n",
       "│ 5   │ Hornet Sportabout │ 18.7    │ 8     │ 360.0   │ 175   │ 3.15    │\n",
       "│ 6   │ Valiant           │ 18.1    │ 6     │ 225.0   │ 105   │ 2.76    │\n",
       "│ 7   │ Duster 360        │ 14.3    │ 8     │ 360.0   │ 245   │ 3.21    │\n",
       "│ 8   │ Merc 240D         │ 24.4    │ 4     │ 146.7   │ 62    │ 3.69    │\n",
       "│ 9   │ Merc 230          │ 22.8    │ 4     │ 140.8   │ 95    │ 3.92    │\n",
       "│ 10  │ Merc 280          │ 19.2    │ 6     │ 167.6   │ 123   │ 3.92    │\n",
       "⋮\n",
       "│ 22  │ Dodge Challenger  │ 15.5    │ 8     │ 318.0   │ 150   │ 2.76    │\n",
       "│ 23  │ AMC Javelin       │ 15.2    │ 8     │ 304.0   │ 150   │ 3.15    │\n",
       "│ 24  │ Camaro Z28        │ 13.3    │ 8     │ 350.0   │ 245   │ 3.73    │\n",
       "│ 25  │ Pontiac Firebird  │ 19.2    │ 8     │ 400.0   │ 175   │ 3.08    │\n",
       "│ 26  │ Fiat X1-9         │ 27.3    │ 4     │ 79.0    │ 66    │ 4.08    │\n",
       "│ 27  │ Porsche 914-2     │ 26.0    │ 4     │ 120.3   │ 91    │ 4.43    │\n",
       "│ 28  │ Lotus Europa      │ 30.4    │ 4     │ 95.1    │ 113   │ 3.77    │\n",
       "│ 29  │ Ford Pantera L    │ 15.8    │ 8     │ 351.0   │ 264   │ 4.22    │\n",
       "│ 30  │ Ferrari Dino      │ 19.7    │ 6     │ 145.0   │ 175   │ 3.62    │\n",
       "│ 31  │ Maserati Bora     │ 15.0    │ 8     │ 301.0   │ 335   │ 3.54    │\n",
       "│ 32  │ Volvo 142E        │ 21.4    │ 4     │ 121.0   │ 109   │ 4.11    │"
      ]
     },
     "execution_count": 3,
     "metadata": {},
     "output_type": "execute_result"
    }
   ],
   "source": [
    "# Load the \"mtcars\" dataset from the \"dataset\" R package\n",
    "mtcars = dataset(\"datasets\", \"mtcars\")"
   ]
  },
  {
   "cell_type": "code",
   "execution_count": 4,
   "metadata": {},
   "outputs": [
    {
     "data": {
      "text/plain": [
       "DataFrame"
      ]
     },
     "execution_count": 4,
     "metadata": {},
     "output_type": "execute_result"
    }
   ],
   "source": [
    "# Return the class of the \"mtcars\" DataFrame\n",
    "typeof(mtcars)"
   ]
  },
  {
   "cell_type": "code",
   "execution_count": 5,
   "metadata": {},
   "outputs": [
    {
     "data": {
      "text/plain": [
       "(32, 12)"
      ]
     },
     "execution_count": 5,
     "metadata": {},
     "output_type": "execute_result"
    }
   ],
   "source": [
    "# Return the dimensions of the \"mtcars\" DataFrame\n",
    "size(mtcars)"
   ]
  },
  {
   "cell_type": "code",
   "execution_count": 6,
   "metadata": {},
   "outputs": [
    {
     "data": {
      "text/plain": [
       "32"
      ]
     },
     "execution_count": 6,
     "metadata": {},
     "output_type": "execute_result"
    }
   ],
   "source": [
    "# Return the number of rows in the \"mtcars\" DataFrame\n",
    "nrow(mtcars)"
   ]
  },
  {
   "cell_type": "code",
   "execution_count": 7,
   "metadata": {},
   "outputs": [
    {
     "data": {
      "text/plain": [
       "12"
      ]
     },
     "execution_count": 7,
     "metadata": {},
     "output_type": "execute_result"
    }
   ],
   "source": [
    "# Return the number of columns in the \"mtcars\" DataFrame\n",
    "ncol(mtcars)"
   ]
  },
  {
   "cell_type": "code",
   "execution_count": 8,
   "metadata": {},
   "outputs": [
    {
     "data": {
      "text/html": [
       "<table class=\"data-frame\"><thead><tr><th></th><th>variable</th><th>mean</th><th>min</th><th>median</th><th>max</th><th>nunique</th><th>nmissing</th><th>eltype</th></tr><tr><th></th><th>Symbol</th><th>Union…</th><th>Any</th><th>Union…</th><th>Any</th><th>Union…</th><th>Nothing</th><th>DataType</th></tr></thead><tbody><p>12 rows × 8 columns</p><tr><th>1</th><td>Model</td><td></td><td>AMC Javelin</td><td></td><td>Volvo 142E</td><td>32</td><td></td><td>String</td></tr><tr><th>2</th><td>MPG</td><td>20.0906</td><td>10.4</td><td>19.2</td><td>33.9</td><td></td><td></td><td>Float64</td></tr><tr><th>3</th><td>Cyl</td><td>6.1875</td><td>4</td><td>6.0</td><td>8</td><td></td><td></td><td>Int64</td></tr><tr><th>4</th><td>Disp</td><td>230.722</td><td>71.1</td><td>196.3</td><td>472.0</td><td></td><td></td><td>Float64</td></tr><tr><th>5</th><td>HP</td><td>146.688</td><td>52</td><td>123.0</td><td>335</td><td></td><td></td><td>Int64</td></tr><tr><th>6</th><td>DRat</td><td>3.59656</td><td>2.76</td><td>3.695</td><td>4.93</td><td></td><td></td><td>Float64</td></tr><tr><th>7</th><td>WT</td><td>3.21725</td><td>1.513</td><td>3.325</td><td>5.424</td><td></td><td></td><td>Float64</td></tr><tr><th>8</th><td>QSec</td><td>17.8487</td><td>14.5</td><td>17.71</td><td>22.9</td><td></td><td></td><td>Float64</td></tr><tr><th>9</th><td>VS</td><td>0.4375</td><td>0</td><td>0.0</td><td>1</td><td></td><td></td><td>Int64</td></tr><tr><th>10</th><td>AM</td><td>0.40625</td><td>0</td><td>0.0</td><td>1</td><td></td><td></td><td>Int64</td></tr><tr><th>11</th><td>Gear</td><td>3.6875</td><td>3</td><td>4.0</td><td>5</td><td></td><td></td><td>Int64</td></tr><tr><th>12</th><td>Carb</td><td>2.8125</td><td>1</td><td>2.0</td><td>8</td><td></td><td></td><td>Int64</td></tr></tbody></table>"
      ],
      "text/latex": [
       "\\begin{tabular}{r|cccccccc}\n",
       "\t& variable & mean & min & median & max & nunique & nmissing & eltype\\\\\n",
       "\t\\hline\n",
       "\t& Symbol & Union… & Any & Union… & Any & Union… & Nothing & DataType\\\\\n",
       "\t\\hline\n",
       "\t1 & Model &  & AMC Javelin &  & Volvo 142E & 32 &  & String \\\\\n",
       "\t2 & MPG & 20.0906 & 10.4 & 19.2 & 33.9 &  &  & Float64 \\\\\n",
       "\t3 & Cyl & 6.1875 & 4 & 6.0 & 8 &  &  & Int64 \\\\\n",
       "\t4 & Disp & 230.722 & 71.1 & 196.3 & 472.0 &  &  & Float64 \\\\\n",
       "\t5 & HP & 146.688 & 52 & 123.0 & 335 &  &  & Int64 \\\\\n",
       "\t6 & DRat & 3.59656 & 2.76 & 3.695 & 4.93 &  &  & Float64 \\\\\n",
       "\t7 & WT & 3.21725 & 1.513 & 3.325 & 5.424 &  &  & Float64 \\\\\n",
       "\t8 & QSec & 17.8487 & 14.5 & 17.71 & 22.9 &  &  & Float64 \\\\\n",
       "\t9 & VS & 0.4375 & 0 & 0.0 & 1 &  &  & Int64 \\\\\n",
       "\t10 & AM & 0.40625 & 0 & 0.0 & 1 &  &  & Int64 \\\\\n",
       "\t11 & Gear & 3.6875 & 3 & 4.0 & 5 &  &  & Int64 \\\\\n",
       "\t12 & Carb & 2.8125 & 1 & 2.0 & 8 &  &  & Int64 \\\\\n",
       "\\end{tabular}\n"
      ],
      "text/plain": [
       "12×8 DataFrame. Omitted printing of 2 columns\n",
       "│ Row │ variable │ mean    │ min         │ median │ max        │ nunique │\n",
       "│     │ \u001b[90mSymbol\u001b[39m   │ \u001b[90mUnion…\u001b[39m  │ \u001b[90mAny\u001b[39m         │ \u001b[90mUnion…\u001b[39m │ \u001b[90mAny\u001b[39m        │ \u001b[90mUnion…\u001b[39m  │\n",
       "├─────┼──────────┼─────────┼─────────────┼────────┼────────────┼─────────┤\n",
       "│ 1   │ Model    │         │ AMC Javelin │        │ Volvo 142E │ 32      │\n",
       "│ 2   │ MPG      │ 20.0906 │ 10.4        │ 19.2   │ 33.9       │         │\n",
       "│ 3   │ Cyl      │ 6.1875  │ 4           │ 6.0    │ 8          │         │\n",
       "│ 4   │ Disp     │ 230.722 │ 71.1        │ 196.3  │ 472.0      │         │\n",
       "│ 5   │ HP       │ 146.688 │ 52          │ 123.0  │ 335        │         │\n",
       "│ 6   │ DRat     │ 3.59656 │ 2.76        │ 3.695  │ 4.93       │         │\n",
       "│ 7   │ WT       │ 3.21725 │ 1.513       │ 3.325  │ 5.424      │         │\n",
       "│ 8   │ QSec     │ 17.8487 │ 14.5        │ 17.71  │ 22.9       │         │\n",
       "│ 9   │ VS       │ 0.4375  │ 0           │ 0.0    │ 1          │         │\n",
       "│ 10  │ AM       │ 0.40625 │ 0           │ 0.0    │ 1          │         │\n",
       "│ 11  │ Gear     │ 3.6875  │ 3           │ 4.0    │ 5          │         │\n",
       "│ 12  │ Carb     │ 2.8125  │ 1           │ 2.0    │ 8          │         │"
      ]
     },
     "execution_count": 8,
     "metadata": {},
     "output_type": "execute_result"
    }
   ],
   "source": [
    "# Return a numerical summary of the \"mtcars\" DataFrame\n",
    "describe(mtcars)"
   ]
  },
  {
   "cell_type": "code",
   "execution_count": 9,
   "metadata": {},
   "outputs": [
    {
     "name": "stdout",
     "output_type": "stream",
     "text": [
      "Summary Stats:\n",
      "Length:         32\n",
      "Missing Count:  0\n",
      "Mean:           20.090625\n",
      "Minimum:        10.400000\n",
      "1st Quartile:   15.425000\n",
      "Median:         19.200000\n",
      "3rd Quartile:   22.800000\n",
      "Maximum:        33.900000\n",
      "Type:           Float64\n"
     ]
    }
   ],
   "source": [
    "# Isolate the variable \"MPG\" and return a numerical summary\n",
    "mpg = mtcars[:MPG]\n",
    "describe(mpg)"
   ]
  },
  {
   "cell_type": "code",
   "execution_count": 10,
   "metadata": {},
   "outputs": [],
   "source": [
    "# Rename multiple columns of the \"mtcars\" DataFrame\n",
    "mtcars = rename(mtcars, :Cyl => :cylinders, :VS => :Engine);"
   ]
  },
  {
   "cell_type": "code",
   "execution_count": 11,
   "metadata": {},
   "outputs": [],
   "source": [
    "# Use the exclamation point shortcut to rename columns and make these changes to the object\n",
    "rename!(mtcars, :HP => :Horsepower, :WT => :weight);"
   ]
  },
  {
   "cell_type": "code",
   "execution_count": 12,
   "metadata": {},
   "outputs": [],
   "source": [
    "# Eliminate the \"DRat\" column from the \"mtcars\" DataFrame, using the Not() function\n",
    "mtcars = mtcars[:, Not(:DRat)];"
   ]
  },
  {
   "cell_type": "code",
   "execution_count": 13,
   "metadata": {},
   "outputs": [],
   "source": [
    "# Use the select() and Not() functions to eliminate the \"QSec\" column\n",
    "mtcars = select(mtcars, Not(:QSec));"
   ]
  },
  {
   "cell_type": "code",
   "execution_count": 14,
   "metadata": {},
   "outputs": [
    {
     "data": {
      "text/html": [
       "<table class=\"data-frame\"><thead><tr><th></th><th>Model</th><th>MPG</th><th>cylinders</th><th>Horsepower</th><th>weight</th></tr><tr><th></th><th>String</th><th>Float64</th><th>Int64</th><th>Int64</th><th>Float64</th></tr></thead><tbody><p>32 rows × 5 columns</p><tr><th>1</th><td>Mazda RX4</td><td>21.0</td><td>6</td><td>110</td><td>2.62</td></tr><tr><th>2</th><td>Mazda RX4 Wag</td><td>21.0</td><td>6</td><td>110</td><td>2.875</td></tr><tr><th>3</th><td>Datsun 710</td><td>22.8</td><td>4</td><td>93</td><td>2.32</td></tr><tr><th>4</th><td>Hornet 4 Drive</td><td>21.4</td><td>6</td><td>110</td><td>3.215</td></tr><tr><th>5</th><td>Hornet Sportabout</td><td>18.7</td><td>8</td><td>175</td><td>3.44</td></tr><tr><th>6</th><td>Valiant</td><td>18.1</td><td>6</td><td>105</td><td>3.46</td></tr><tr><th>7</th><td>Duster 360</td><td>14.3</td><td>8</td><td>245</td><td>3.57</td></tr><tr><th>8</th><td>Merc 240D</td><td>24.4</td><td>4</td><td>62</td><td>3.19</td></tr><tr><th>9</th><td>Merc 230</td><td>22.8</td><td>4</td><td>95</td><td>3.15</td></tr><tr><th>10</th><td>Merc 280</td><td>19.2</td><td>6</td><td>123</td><td>3.44</td></tr><tr><th>11</th><td>Merc 280C</td><td>17.8</td><td>6</td><td>123</td><td>3.44</td></tr><tr><th>12</th><td>Merc 450SE</td><td>16.4</td><td>8</td><td>180</td><td>4.07</td></tr><tr><th>13</th><td>Merc 450SL</td><td>17.3</td><td>8</td><td>180</td><td>3.73</td></tr><tr><th>14</th><td>Merc 450SLC</td><td>15.2</td><td>8</td><td>180</td><td>3.78</td></tr><tr><th>15</th><td>Cadillac Fleetwood</td><td>10.4</td><td>8</td><td>205</td><td>5.25</td></tr><tr><th>16</th><td>Lincoln Continental</td><td>10.4</td><td>8</td><td>215</td><td>5.424</td></tr><tr><th>17</th><td>Chrysler Imperial</td><td>14.7</td><td>8</td><td>230</td><td>5.345</td></tr><tr><th>18</th><td>Fiat 128</td><td>32.4</td><td>4</td><td>66</td><td>2.2</td></tr><tr><th>19</th><td>Honda Civic</td><td>30.4</td><td>4</td><td>52</td><td>1.615</td></tr><tr><th>20</th><td>Toyota Corolla</td><td>33.9</td><td>4</td><td>65</td><td>1.835</td></tr><tr><th>21</th><td>Toyota Corona</td><td>21.5</td><td>4</td><td>97</td><td>2.465</td></tr><tr><th>22</th><td>Dodge Challenger</td><td>15.5</td><td>8</td><td>150</td><td>3.52</td></tr><tr><th>23</th><td>AMC Javelin</td><td>15.2</td><td>8</td><td>150</td><td>3.435</td></tr><tr><th>24</th><td>Camaro Z28</td><td>13.3</td><td>8</td><td>245</td><td>3.84</td></tr><tr><th>25</th><td>Pontiac Firebird</td><td>19.2</td><td>8</td><td>175</td><td>3.845</td></tr><tr><th>26</th><td>Fiat X1-9</td><td>27.3</td><td>4</td><td>66</td><td>1.935</td></tr><tr><th>27</th><td>Porsche 914-2</td><td>26.0</td><td>4</td><td>91</td><td>2.14</td></tr><tr><th>28</th><td>Lotus Europa</td><td>30.4</td><td>4</td><td>113</td><td>1.513</td></tr><tr><th>29</th><td>Ford Pantera L</td><td>15.8</td><td>8</td><td>264</td><td>3.17</td></tr><tr><th>30</th><td>Ferrari Dino</td><td>19.7</td><td>6</td><td>175</td><td>2.77</td></tr><tr><th>&vellip;</th><td>&vellip;</td><td>&vellip;</td><td>&vellip;</td><td>&vellip;</td><td>&vellip;</td></tr></tbody></table>"
      ],
      "text/latex": [
       "\\begin{tabular}{r|ccccc}\n",
       "\t& Model & MPG & cylinders & Horsepower & weight\\\\\n",
       "\t\\hline\n",
       "\t& String & Float64 & Int64 & Int64 & Float64\\\\\n",
       "\t\\hline\n",
       "\t1 & Mazda RX4 & 21.0 & 6 & 110 & 2.62 \\\\\n",
       "\t2 & Mazda RX4 Wag & 21.0 & 6 & 110 & 2.875 \\\\\n",
       "\t3 & Datsun 710 & 22.8 & 4 & 93 & 2.32 \\\\\n",
       "\t4 & Hornet 4 Drive & 21.4 & 6 & 110 & 3.215 \\\\\n",
       "\t5 & Hornet Sportabout & 18.7 & 8 & 175 & 3.44 \\\\\n",
       "\t6 & Valiant & 18.1 & 6 & 105 & 3.46 \\\\\n",
       "\t7 & Duster 360 & 14.3 & 8 & 245 & 3.57 \\\\\n",
       "\t8 & Merc 240D & 24.4 & 4 & 62 & 3.19 \\\\\n",
       "\t9 & Merc 230 & 22.8 & 4 & 95 & 3.15 \\\\\n",
       "\t10 & Merc 280 & 19.2 & 6 & 123 & 3.44 \\\\\n",
       "\t11 & Merc 280C & 17.8 & 6 & 123 & 3.44 \\\\\n",
       "\t12 & Merc 450SE & 16.4 & 8 & 180 & 4.07 \\\\\n",
       "\t13 & Merc 450SL & 17.3 & 8 & 180 & 3.73 \\\\\n",
       "\t14 & Merc 450SLC & 15.2 & 8 & 180 & 3.78 \\\\\n",
       "\t15 & Cadillac Fleetwood & 10.4 & 8 & 205 & 5.25 \\\\\n",
       "\t16 & Lincoln Continental & 10.4 & 8 & 215 & 5.424 \\\\\n",
       "\t17 & Chrysler Imperial & 14.7 & 8 & 230 & 5.345 \\\\\n",
       "\t18 & Fiat 128 & 32.4 & 4 & 66 & 2.2 \\\\\n",
       "\t19 & Honda Civic & 30.4 & 4 & 52 & 1.615 \\\\\n",
       "\t20 & Toyota Corolla & 33.9 & 4 & 65 & 1.835 \\\\\n",
       "\t21 & Toyota Corona & 21.5 & 4 & 97 & 2.465 \\\\\n",
       "\t22 & Dodge Challenger & 15.5 & 8 & 150 & 3.52 \\\\\n",
       "\t23 & AMC Javelin & 15.2 & 8 & 150 & 3.435 \\\\\n",
       "\t24 & Camaro Z28 & 13.3 & 8 & 245 & 3.84 \\\\\n",
       "\t25 & Pontiac Firebird & 19.2 & 8 & 175 & 3.845 \\\\\n",
       "\t26 & Fiat X1-9 & 27.3 & 4 & 66 & 1.935 \\\\\n",
       "\t27 & Porsche 914-2 & 26.0 & 4 & 91 & 2.14 \\\\\n",
       "\t28 & Lotus Europa & 30.4 & 4 & 113 & 1.513 \\\\\n",
       "\t29 & Ford Pantera L & 15.8 & 8 & 264 & 3.17 \\\\\n",
       "\t30 & Ferrari Dino & 19.7 & 6 & 175 & 2.77 \\\\\n",
       "\t$\\dots$ & $\\dots$ & $\\dots$ & $\\dots$ & $\\dots$ & $\\dots$ \\\\\n",
       "\\end{tabular}\n"
      ],
      "text/plain": [
       "32×5 DataFrame\n",
       "│ Row │ Model             │ MPG     │ cylinders │ Horsepower │ weight  │\n",
       "│     │ \u001b[90mString\u001b[39m            │ \u001b[90mFloat64\u001b[39m │ \u001b[90mInt64\u001b[39m     │ \u001b[90mInt64\u001b[39m      │ \u001b[90mFloat64\u001b[39m │\n",
       "├─────┼───────────────────┼─────────┼───────────┼────────────┼─────────┤\n",
       "│ 1   │ Mazda RX4         │ 21.0    │ 6         │ 110        │ 2.62    │\n",
       "│ 2   │ Mazda RX4 Wag     │ 21.0    │ 6         │ 110        │ 2.875   │\n",
       "│ 3   │ Datsun 710        │ 22.8    │ 4         │ 93         │ 2.32    │\n",
       "│ 4   │ Hornet 4 Drive    │ 21.4    │ 6         │ 110        │ 3.215   │\n",
       "│ 5   │ Hornet Sportabout │ 18.7    │ 8         │ 175        │ 3.44    │\n",
       "│ 6   │ Valiant           │ 18.1    │ 6         │ 105        │ 3.46    │\n",
       "│ 7   │ Duster 360        │ 14.3    │ 8         │ 245        │ 3.57    │\n",
       "│ 8   │ Merc 240D         │ 24.4    │ 4         │ 62         │ 3.19    │\n",
       "│ 9   │ Merc 230          │ 22.8    │ 4         │ 95         │ 3.15    │\n",
       "│ 10  │ Merc 280          │ 19.2    │ 6         │ 123        │ 3.44    │\n",
       "⋮\n",
       "│ 22  │ Dodge Challenger  │ 15.5    │ 8         │ 150        │ 3.52    │\n",
       "│ 23  │ AMC Javelin       │ 15.2    │ 8         │ 150        │ 3.435   │\n",
       "│ 24  │ Camaro Z28        │ 13.3    │ 8         │ 245        │ 3.84    │\n",
       "│ 25  │ Pontiac Firebird  │ 19.2    │ 8         │ 175        │ 3.845   │\n",
       "│ 26  │ Fiat X1-9         │ 27.3    │ 4         │ 66         │ 1.935   │\n",
       "│ 27  │ Porsche 914-2     │ 26.0    │ 4         │ 91         │ 2.14    │\n",
       "│ 28  │ Lotus Europa      │ 30.4    │ 4         │ 113        │ 1.513   │\n",
       "│ 29  │ Ford Pantera L    │ 15.8    │ 8         │ 264        │ 3.17    │\n",
       "│ 30  │ Ferrari Dino      │ 19.7    │ 6         │ 175        │ 2.77    │\n",
       "│ 31  │ Maserati Bora     │ 15.0    │ 8         │ 335        │ 3.57    │\n",
       "│ 32  │ Volvo 142E        │ 21.4    │ 4         │ 109        │ 2.78    │"
      ]
     },
     "execution_count": 14,
     "metadata": {},
     "output_type": "execute_result"
    }
   ],
   "source": [
    "# Select desired columns from the \"mtcars\" DataFrame\n",
    "mtcars = mtcars[:, [:Model, :MPG, :cylinders, :Horsepower, :weight]]"
   ]
  },
  {
   "cell_type": "code",
   "execution_count": 15,
   "metadata": {},
   "outputs": [
    {
     "data": {
      "text/html": [
       "<table class=\"data-frame\"><thead><tr><th></th><th>Model</th><th>MPG</th><th>cylinders</th><th>Horsepower</th><th>weight</th></tr><tr><th></th><th>String</th><th>Float64</th><th>Int64</th><th>Int64</th><th>Float64</th></tr></thead><tbody><p>14 rows × 5 columns</p><tr><th>1</th><td>Hornet Sportabout</td><td>18.7</td><td>8</td><td>175</td><td>3.44</td></tr><tr><th>2</th><td>Duster 360</td><td>14.3</td><td>8</td><td>245</td><td>3.57</td></tr><tr><th>3</th><td>Merc 450SE</td><td>16.4</td><td>8</td><td>180</td><td>4.07</td></tr><tr><th>4</th><td>Merc 450SL</td><td>17.3</td><td>8</td><td>180</td><td>3.73</td></tr><tr><th>5</th><td>Merc 450SLC</td><td>15.2</td><td>8</td><td>180</td><td>3.78</td></tr><tr><th>6</th><td>Cadillac Fleetwood</td><td>10.4</td><td>8</td><td>205</td><td>5.25</td></tr><tr><th>7</th><td>Lincoln Continental</td><td>10.4</td><td>8</td><td>215</td><td>5.424</td></tr><tr><th>8</th><td>Chrysler Imperial</td><td>14.7</td><td>8</td><td>230</td><td>5.345</td></tr><tr><th>9</th><td>Dodge Challenger</td><td>15.5</td><td>8</td><td>150</td><td>3.52</td></tr><tr><th>10</th><td>AMC Javelin</td><td>15.2</td><td>8</td><td>150</td><td>3.435</td></tr><tr><th>11</th><td>Camaro Z28</td><td>13.3</td><td>8</td><td>245</td><td>3.84</td></tr><tr><th>12</th><td>Pontiac Firebird</td><td>19.2</td><td>8</td><td>175</td><td>3.845</td></tr><tr><th>13</th><td>Ford Pantera L</td><td>15.8</td><td>8</td><td>264</td><td>3.17</td></tr><tr><th>14</th><td>Maserati Bora</td><td>15.0</td><td>8</td><td>335</td><td>3.57</td></tr></tbody></table>"
      ],
      "text/latex": [
       "\\begin{tabular}{r|ccccc}\n",
       "\t& Model & MPG & cylinders & Horsepower & weight\\\\\n",
       "\t\\hline\n",
       "\t& String & Float64 & Int64 & Int64 & Float64\\\\\n",
       "\t\\hline\n",
       "\t1 & Hornet Sportabout & 18.7 & 8 & 175 & 3.44 \\\\\n",
       "\t2 & Duster 360 & 14.3 & 8 & 245 & 3.57 \\\\\n",
       "\t3 & Merc 450SE & 16.4 & 8 & 180 & 4.07 \\\\\n",
       "\t4 & Merc 450SL & 17.3 & 8 & 180 & 3.73 \\\\\n",
       "\t5 & Merc 450SLC & 15.2 & 8 & 180 & 3.78 \\\\\n",
       "\t6 & Cadillac Fleetwood & 10.4 & 8 & 205 & 5.25 \\\\\n",
       "\t7 & Lincoln Continental & 10.4 & 8 & 215 & 5.424 \\\\\n",
       "\t8 & Chrysler Imperial & 14.7 & 8 & 230 & 5.345 \\\\\n",
       "\t9 & Dodge Challenger & 15.5 & 8 & 150 & 3.52 \\\\\n",
       "\t10 & AMC Javelin & 15.2 & 8 & 150 & 3.435 \\\\\n",
       "\t11 & Camaro Z28 & 13.3 & 8 & 245 & 3.84 \\\\\n",
       "\t12 & Pontiac Firebird & 19.2 & 8 & 175 & 3.845 \\\\\n",
       "\t13 & Ford Pantera L & 15.8 & 8 & 264 & 3.17 \\\\\n",
       "\t14 & Maserati Bora & 15.0 & 8 & 335 & 3.57 \\\\\n",
       "\\end{tabular}\n"
      ],
      "text/plain": [
       "14×5 DataFrame\n",
       "│ Row │ Model               │ MPG     │ cylinders │ Horsepower │ weight  │\n",
       "│     │ \u001b[90mString\u001b[39m              │ \u001b[90mFloat64\u001b[39m │ \u001b[90mInt64\u001b[39m     │ \u001b[90mInt64\u001b[39m      │ \u001b[90mFloat64\u001b[39m │\n",
       "├─────┼─────────────────────┼─────────┼───────────┼────────────┼─────────┤\n",
       "│ 1   │ Hornet Sportabout   │ 18.7    │ 8         │ 175        │ 3.44    │\n",
       "│ 2   │ Duster 360          │ 14.3    │ 8         │ 245        │ 3.57    │\n",
       "│ 3   │ Merc 450SE          │ 16.4    │ 8         │ 180        │ 4.07    │\n",
       "│ 4   │ Merc 450SL          │ 17.3    │ 8         │ 180        │ 3.73    │\n",
       "│ 5   │ Merc 450SLC         │ 15.2    │ 8         │ 180        │ 3.78    │\n",
       "│ 6   │ Cadillac Fleetwood  │ 10.4    │ 8         │ 205        │ 5.25    │\n",
       "│ 7   │ Lincoln Continental │ 10.4    │ 8         │ 215        │ 5.424   │\n",
       "│ 8   │ Chrysler Imperial   │ 14.7    │ 8         │ 230        │ 5.345   │\n",
       "│ 9   │ Dodge Challenger    │ 15.5    │ 8         │ 150        │ 3.52    │\n",
       "│ 10  │ AMC Javelin         │ 15.2    │ 8         │ 150        │ 3.435   │\n",
       "│ 11  │ Camaro Z28          │ 13.3    │ 8         │ 245        │ 3.84    │\n",
       "│ 12  │ Pontiac Firebird    │ 19.2    │ 8         │ 175        │ 3.845   │\n",
       "│ 13  │ Ford Pantera L      │ 15.8    │ 8         │ 264        │ 3.17    │\n",
       "│ 14  │ Maserati Bora       │ 15.0    │ 8         │ 335        │ 3.57    │"
      ]
     },
     "execution_count": 15,
     "metadata": {},
     "output_type": "execute_result"
    }
   ],
   "source": [
    "# Filter rows of the \"mtcars\" DataFrame\n",
    "fourCyl = mtcars[mtcars[:cylinders] .== 4, :];\n",
    "sixCyl = mtcars[mtcars[:cylinders] .== 6, :];\n",
    "eightCyl = mtcars[mtcars[:cylinders] .== 8, :]"
   ]
  },
  {
   "cell_type": "code",
   "execution_count": 16,
   "metadata": {},
   "outputs": [
    {
     "data": {
      "text/html": [
       "<table class=\"data-frame\"><thead><tr><th></th><th>Model</th><th>MPG</th><th>cylinders</th><th>Horsepower</th><th>weight</th></tr><tr><th></th><th>String</th><th>Float64</th><th>Int64</th><th>Int64</th><th>Float64</th></tr></thead><tbody><p>32 rows × 5 columns</p><tr><th>1</th><td>Toyota Corolla</td><td>33.9</td><td>4</td><td>65</td><td>1.835</td></tr><tr><th>2</th><td>Fiat 128</td><td>32.4</td><td>4</td><td>66</td><td>2.2</td></tr><tr><th>3</th><td>Honda Civic</td><td>30.4</td><td>4</td><td>52</td><td>1.615</td></tr><tr><th>4</th><td>Lotus Europa</td><td>30.4</td><td>4</td><td>113</td><td>1.513</td></tr><tr><th>5</th><td>Fiat X1-9</td><td>27.3</td><td>4</td><td>66</td><td>1.935</td></tr><tr><th>6</th><td>Porsche 914-2</td><td>26.0</td><td>4</td><td>91</td><td>2.14</td></tr><tr><th>7</th><td>Merc 240D</td><td>24.4</td><td>4</td><td>62</td><td>3.19</td></tr><tr><th>8</th><td>Datsun 710</td><td>22.8</td><td>4</td><td>93</td><td>2.32</td></tr><tr><th>9</th><td>Merc 230</td><td>22.8</td><td>4</td><td>95</td><td>3.15</td></tr><tr><th>10</th><td>Toyota Corona</td><td>21.5</td><td>4</td><td>97</td><td>2.465</td></tr><tr><th>11</th><td>Hornet 4 Drive</td><td>21.4</td><td>6</td><td>110</td><td>3.215</td></tr><tr><th>12</th><td>Volvo 142E</td><td>21.4</td><td>4</td><td>109</td><td>2.78</td></tr><tr><th>13</th><td>Mazda RX4</td><td>21.0</td><td>6</td><td>110</td><td>2.62</td></tr><tr><th>14</th><td>Mazda RX4 Wag</td><td>21.0</td><td>6</td><td>110</td><td>2.875</td></tr><tr><th>15</th><td>Ferrari Dino</td><td>19.7</td><td>6</td><td>175</td><td>2.77</td></tr><tr><th>16</th><td>Merc 280</td><td>19.2</td><td>6</td><td>123</td><td>3.44</td></tr><tr><th>17</th><td>Pontiac Firebird</td><td>19.2</td><td>8</td><td>175</td><td>3.845</td></tr><tr><th>18</th><td>Hornet Sportabout</td><td>18.7</td><td>8</td><td>175</td><td>3.44</td></tr><tr><th>19</th><td>Valiant</td><td>18.1</td><td>6</td><td>105</td><td>3.46</td></tr><tr><th>20</th><td>Merc 280C</td><td>17.8</td><td>6</td><td>123</td><td>3.44</td></tr><tr><th>21</th><td>Merc 450SL</td><td>17.3</td><td>8</td><td>180</td><td>3.73</td></tr><tr><th>22</th><td>Merc 450SE</td><td>16.4</td><td>8</td><td>180</td><td>4.07</td></tr><tr><th>23</th><td>Ford Pantera L</td><td>15.8</td><td>8</td><td>264</td><td>3.17</td></tr><tr><th>24</th><td>Dodge Challenger</td><td>15.5</td><td>8</td><td>150</td><td>3.52</td></tr><tr><th>25</th><td>Merc 450SLC</td><td>15.2</td><td>8</td><td>180</td><td>3.78</td></tr><tr><th>26</th><td>AMC Javelin</td><td>15.2</td><td>8</td><td>150</td><td>3.435</td></tr><tr><th>27</th><td>Maserati Bora</td><td>15.0</td><td>8</td><td>335</td><td>3.57</td></tr><tr><th>28</th><td>Chrysler Imperial</td><td>14.7</td><td>8</td><td>230</td><td>5.345</td></tr><tr><th>29</th><td>Duster 360</td><td>14.3</td><td>8</td><td>245</td><td>3.57</td></tr><tr><th>30</th><td>Camaro Z28</td><td>13.3</td><td>8</td><td>245</td><td>3.84</td></tr><tr><th>&vellip;</th><td>&vellip;</td><td>&vellip;</td><td>&vellip;</td><td>&vellip;</td><td>&vellip;</td></tr></tbody></table>"
      ],
      "text/latex": [
       "\\begin{tabular}{r|ccccc}\n",
       "\t& Model & MPG & cylinders & Horsepower & weight\\\\\n",
       "\t\\hline\n",
       "\t& String & Float64 & Int64 & Int64 & Float64\\\\\n",
       "\t\\hline\n",
       "\t1 & Toyota Corolla & 33.9 & 4 & 65 & 1.835 \\\\\n",
       "\t2 & Fiat 128 & 32.4 & 4 & 66 & 2.2 \\\\\n",
       "\t3 & Honda Civic & 30.4 & 4 & 52 & 1.615 \\\\\n",
       "\t4 & Lotus Europa & 30.4 & 4 & 113 & 1.513 \\\\\n",
       "\t5 & Fiat X1-9 & 27.3 & 4 & 66 & 1.935 \\\\\n",
       "\t6 & Porsche 914-2 & 26.0 & 4 & 91 & 2.14 \\\\\n",
       "\t7 & Merc 240D & 24.4 & 4 & 62 & 3.19 \\\\\n",
       "\t8 & Datsun 710 & 22.8 & 4 & 93 & 2.32 \\\\\n",
       "\t9 & Merc 230 & 22.8 & 4 & 95 & 3.15 \\\\\n",
       "\t10 & Toyota Corona & 21.5 & 4 & 97 & 2.465 \\\\\n",
       "\t11 & Hornet 4 Drive & 21.4 & 6 & 110 & 3.215 \\\\\n",
       "\t12 & Volvo 142E & 21.4 & 4 & 109 & 2.78 \\\\\n",
       "\t13 & Mazda RX4 & 21.0 & 6 & 110 & 2.62 \\\\\n",
       "\t14 & Mazda RX4 Wag & 21.0 & 6 & 110 & 2.875 \\\\\n",
       "\t15 & Ferrari Dino & 19.7 & 6 & 175 & 2.77 \\\\\n",
       "\t16 & Merc 280 & 19.2 & 6 & 123 & 3.44 \\\\\n",
       "\t17 & Pontiac Firebird & 19.2 & 8 & 175 & 3.845 \\\\\n",
       "\t18 & Hornet Sportabout & 18.7 & 8 & 175 & 3.44 \\\\\n",
       "\t19 & Valiant & 18.1 & 6 & 105 & 3.46 \\\\\n",
       "\t20 & Merc 280C & 17.8 & 6 & 123 & 3.44 \\\\\n",
       "\t21 & Merc 450SL & 17.3 & 8 & 180 & 3.73 \\\\\n",
       "\t22 & Merc 450SE & 16.4 & 8 & 180 & 4.07 \\\\\n",
       "\t23 & Ford Pantera L & 15.8 & 8 & 264 & 3.17 \\\\\n",
       "\t24 & Dodge Challenger & 15.5 & 8 & 150 & 3.52 \\\\\n",
       "\t25 & Merc 450SLC & 15.2 & 8 & 180 & 3.78 \\\\\n",
       "\t26 & AMC Javelin & 15.2 & 8 & 150 & 3.435 \\\\\n",
       "\t27 & Maserati Bora & 15.0 & 8 & 335 & 3.57 \\\\\n",
       "\t28 & Chrysler Imperial & 14.7 & 8 & 230 & 5.345 \\\\\n",
       "\t29 & Duster 360 & 14.3 & 8 & 245 & 3.57 \\\\\n",
       "\t30 & Camaro Z28 & 13.3 & 8 & 245 & 3.84 \\\\\n",
       "\t$\\dots$ & $\\dots$ & $\\dots$ & $\\dots$ & $\\dots$ & $\\dots$ \\\\\n",
       "\\end{tabular}\n"
      ],
      "text/plain": [
       "32×5 DataFrame\n",
       "│ Row │ Model               │ MPG     │ cylinders │ Horsepower │ weight  │\n",
       "│     │ \u001b[90mString\u001b[39m              │ \u001b[90mFloat64\u001b[39m │ \u001b[90mInt64\u001b[39m     │ \u001b[90mInt64\u001b[39m      │ \u001b[90mFloat64\u001b[39m │\n",
       "├─────┼─────────────────────┼─────────┼───────────┼────────────┼─────────┤\n",
       "│ 1   │ Toyota Corolla      │ 33.9    │ 4         │ 65         │ 1.835   │\n",
       "│ 2   │ Fiat 128            │ 32.4    │ 4         │ 66         │ 2.2     │\n",
       "│ 3   │ Honda Civic         │ 30.4    │ 4         │ 52         │ 1.615   │\n",
       "│ 4   │ Lotus Europa        │ 30.4    │ 4         │ 113        │ 1.513   │\n",
       "│ 5   │ Fiat X1-9           │ 27.3    │ 4         │ 66         │ 1.935   │\n",
       "│ 6   │ Porsche 914-2       │ 26.0    │ 4         │ 91         │ 2.14    │\n",
       "│ 7   │ Merc 240D           │ 24.4    │ 4         │ 62         │ 3.19    │\n",
       "│ 8   │ Datsun 710          │ 22.8    │ 4         │ 93         │ 2.32    │\n",
       "│ 9   │ Merc 230            │ 22.8    │ 4         │ 95         │ 3.15    │\n",
       "│ 10  │ Toyota Corona       │ 21.5    │ 4         │ 97         │ 2.465   │\n",
       "⋮\n",
       "│ 22  │ Merc 450SE          │ 16.4    │ 8         │ 180        │ 4.07    │\n",
       "│ 23  │ Ford Pantera L      │ 15.8    │ 8         │ 264        │ 3.17    │\n",
       "│ 24  │ Dodge Challenger    │ 15.5    │ 8         │ 150        │ 3.52    │\n",
       "│ 25  │ Merc 450SLC         │ 15.2    │ 8         │ 180        │ 3.78    │\n",
       "│ 26  │ AMC Javelin         │ 15.2    │ 8         │ 150        │ 3.435   │\n",
       "│ 27  │ Maserati Bora       │ 15.0    │ 8         │ 335        │ 3.57    │\n",
       "│ 28  │ Chrysler Imperial   │ 14.7    │ 8         │ 230        │ 5.345   │\n",
       "│ 29  │ Duster 360          │ 14.3    │ 8         │ 245        │ 3.57    │\n",
       "│ 30  │ Camaro Z28          │ 13.3    │ 8         │ 245        │ 3.84    │\n",
       "│ 31  │ Cadillac Fleetwood  │ 10.4    │ 8         │ 205        │ 5.25    │\n",
       "│ 32  │ Lincoln Continental │ 10.4    │ 8         │ 215        │ 5.424   │"
      ]
     },
     "execution_count": 16,
     "metadata": {},
     "output_type": "execute_result"
    }
   ],
   "source": [
    "# Sort rows of the \"mtcars\" DataFrame\n",
    "sort!(mtcars, :MPG, rev = true)"
   ]
  },
  {
   "cell_type": "code",
   "execution_count": 17,
   "metadata": {},
   "outputs": [],
   "source": [
    "# Create new variables in the \"mtcars\" DataFrame\n",
    "mtcars[:powerToWeightRatio] = mtcars[:Horsepower] ./ mtcars[:weight];\n",
    "mtcars[:horsepowerTimesMPG] = mtcars[:Horsepower] .* mtcars[:MPG];"
   ]
  },
  {
   "cell_type": "code",
   "execution_count": 18,
   "metadata": {},
   "outputs": [
    {
     "data": {
      "text/html": [
       "<table class=\"data-frame\"><thead><tr><th></th><th>Model</th><th>MPG</th><th>cylinders</th><th>Horsepower</th><th>weight</th><th>powerToWeightRatio</th><th>horsepowerTimesMPG</th></tr><tr><th></th><th>String</th><th>Float64</th><th>Int64</th><th>Int64</th><th>Float64</th><th>Float64</th><th>Float64</th></tr></thead><tbody><p>6 rows × 7 columns</p><tr><th>1</th><td>Toyota Corolla</td><td>33.9</td><td>4</td><td>65</td><td>1.835</td><td>35.4223</td><td>2203.5</td></tr><tr><th>2</th><td>Fiat 128</td><td>32.4</td><td>4</td><td>66</td><td>2.2</td><td>30.0</td><td>2138.4</td></tr><tr><th>3</th><td>Honda Civic</td><td>30.4</td><td>4</td><td>52</td><td>1.615</td><td>32.1981</td><td>1580.8</td></tr><tr><th>4</th><td>Lotus Europa</td><td>30.4</td><td>4</td><td>113</td><td>1.513</td><td>74.6861</td><td>3435.2</td></tr><tr><th>5</th><td>Fiat X1-9</td><td>27.3</td><td>4</td><td>66</td><td>1.935</td><td>34.1085</td><td>1801.8</td></tr><tr><th>6</th><td>Porsche 914-2</td><td>26.0</td><td>4</td><td>91</td><td>2.14</td><td>42.5234</td><td>2366.0</td></tr></tbody></table>"
      ],
      "text/latex": [
       "\\begin{tabular}{r|ccccccc}\n",
       "\t& Model & MPG & cylinders & Horsepower & weight & powerToWeightRatio & horsepowerTimesMPG\\\\\n",
       "\t\\hline\n",
       "\t& String & Float64 & Int64 & Int64 & Float64 & Float64 & Float64\\\\\n",
       "\t\\hline\n",
       "\t1 & Toyota Corolla & 33.9 & 4 & 65 & 1.835 & 35.4223 & 2203.5 \\\\\n",
       "\t2 & Fiat 128 & 32.4 & 4 & 66 & 2.2 & 30.0 & 2138.4 \\\\\n",
       "\t3 & Honda Civic & 30.4 & 4 & 52 & 1.615 & 32.1981 & 1580.8 \\\\\n",
       "\t4 & Lotus Europa & 30.4 & 4 & 113 & 1.513 & 74.6861 & 3435.2 \\\\\n",
       "\t5 & Fiat X1-9 & 27.3 & 4 & 66 & 1.935 & 34.1085 & 1801.8 \\\\\n",
       "\t6 & Porsche 914-2 & 26.0 & 4 & 91 & 2.14 & 42.5234 & 2366.0 \\\\\n",
       "\\end{tabular}\n"
      ],
      "text/plain": [
       "6×7 DataFrame. Omitted printing of 2 columns\n",
       "│ Row │ Model          │ MPG     │ cylinders │ Horsepower │ weight  │\n",
       "│     │ \u001b[90mString\u001b[39m         │ \u001b[90mFloat64\u001b[39m │ \u001b[90mInt64\u001b[39m     │ \u001b[90mInt64\u001b[39m      │ \u001b[90mFloat64\u001b[39m │\n",
       "├─────┼────────────────┼─────────┼───────────┼────────────┼─────────┤\n",
       "│ 1   │ Toyota Corolla │ 33.9    │ 4         │ 65         │ 1.835   │\n",
       "│ 2   │ Fiat 128       │ 32.4    │ 4         │ 66         │ 2.2     │\n",
       "│ 3   │ Honda Civic    │ 30.4    │ 4         │ 52         │ 1.615   │\n",
       "│ 4   │ Lotus Europa   │ 30.4    │ 4         │ 113        │ 1.513   │\n",
       "│ 5   │ Fiat X1-9      │ 27.3    │ 4         │ 66         │ 1.935   │\n",
       "│ 6   │ Porsche 914-2  │ 26.0    │ 4         │ 91         │ 2.14    │"
      ]
     },
     "execution_count": 18,
     "metadata": {},
     "output_type": "execute_result"
    }
   ],
   "source": [
    "# Look at the first six rows of the \"mtcars\" DataFrame\n",
    "carsHead = head(mtcars, 6)\n",
    "carsHead"
   ]
  },
  {
   "cell_type": "code",
   "execution_count": 19,
   "metadata": {},
   "outputs": [
    {
     "data": {
      "text/html": [
       "<table class=\"data-frame\"><thead><tr><th></th><th>Manufacturer</th><th>Model</th></tr><tr><th></th><th>String</th><th>String</th></tr></thead><tbody><p>6 rows × 2 columns</p><tr><th>1</th><td>Toyota</td><td>Toyota Camry</td></tr><tr><th>2</th><td>Fiat</td><td>Fiat 128</td></tr><tr><th>3</th><td>Honda</td><td>Honda Civic</td></tr><tr><th>4</th><td>Lotus</td><td>Lotus Europa</td></tr><tr><th>5</th><td>Fiat</td><td>Fiat X1-9</td></tr><tr><th>6</th><td>Porsche</td><td>Porsche 914-2</td></tr></tbody></table>"
      ],
      "text/latex": [
       "\\begin{tabular}{r|cc}\n",
       "\t& Manufacturer & Model\\\\\n",
       "\t\\hline\n",
       "\t& String & String\\\\\n",
       "\t\\hline\n",
       "\t1 & Toyota & Toyota Camry \\\\\n",
       "\t2 & Fiat & Fiat 128 \\\\\n",
       "\t3 & Honda & Honda Civic \\\\\n",
       "\t4 & Lotus & Lotus Europa \\\\\n",
       "\t5 & Fiat & Fiat X1-9 \\\\\n",
       "\t6 & Porsche & Porsche 914-2 \\\\\n",
       "\\end{tabular}\n"
      ],
      "text/plain": [
       "6×2 DataFrame\n",
       "│ Row │ Manufacturer │ Model         │\n",
       "│     │ \u001b[90mString\u001b[39m       │ \u001b[90mString\u001b[39m        │\n",
       "├─────┼──────────────┼───────────────┤\n",
       "│ 1   │ Toyota       │ Toyota Camry  │\n",
       "│ 2   │ Fiat         │ Fiat 128      │\n",
       "│ 3   │ Honda        │ Honda Civic   │\n",
       "│ 4   │ Lotus        │ Lotus Europa  │\n",
       "│ 5   │ Fiat         │ Fiat X1-9     │\n",
       "│ 6   │ Porsche      │ Porsche 914-2 │"
      ]
     },
     "execution_count": 19,
     "metadata": {},
     "output_type": "execute_result"
    }
   ],
   "source": [
    "# Create a new DataFrame called \"models\"\n",
    "models = DataFrame(\n",
    "    Manufacturer = [\"Toyota\", \"Fiat\", \"Honda\", \"Lotus\", \"Fiat\", \"Porsche\"],\n",
    "    Model = [\"Toyota Camry\", \"Fiat 128\", \"Honda Civic\", \"Lotus Europa\", \"Fiat X1-9\", \"Porsche 914-2\"]\n",
    "    )"
   ]
  },
  {
   "cell_type": "code",
   "execution_count": 20,
   "metadata": {},
   "outputs": [
    {
     "data": {
      "text/html": [
       "<table class=\"data-frame\"><thead><tr><th></th><th>Manufacturer</th><th>Model</th><th>MPG</th><th>Horsepower</th><th>weight</th></tr><tr><th></th><th>String</th><th>String</th><th>Float64?</th><th>Int64?</th><th>Float64?</th></tr></thead><tbody><p>6 rows × 5 columns</p><tr><th>1</th><td>Toyota</td><td>Toyota Camry</td><td><em>missing</em></td><td><em>missing</em></td><td><em>missing</em></td></tr><tr><th>2</th><td>Fiat</td><td>Fiat 128</td><td>32.4</td><td>66</td><td>2.2</td></tr><tr><th>3</th><td>Honda</td><td>Honda Civic</td><td>30.4</td><td>52</td><td>1.615</td></tr><tr><th>4</th><td>Lotus</td><td>Lotus Europa</td><td>30.4</td><td>113</td><td>1.513</td></tr><tr><th>5</th><td>Fiat</td><td>Fiat X1-9</td><td>27.3</td><td>66</td><td>1.935</td></tr><tr><th>6</th><td>Porsche</td><td>Porsche 914-2</td><td>26.0</td><td>91</td><td>2.14</td></tr></tbody></table>"
      ],
      "text/latex": [
       "\\begin{tabular}{r|ccccc}\n",
       "\t& Manufacturer & Model & MPG & Horsepower & weight\\\\\n",
       "\t\\hline\n",
       "\t& String & String & Float64? & Int64? & Float64?\\\\\n",
       "\t\\hline\n",
       "\t1 & Toyota & Toyota Camry & \\emph{missing} & \\emph{missing} & \\emph{missing} \\\\\n",
       "\t2 & Fiat & Fiat 128 & 32.4 & 66 & 2.2 \\\\\n",
       "\t3 & Honda & Honda Civic & 30.4 & 52 & 1.615 \\\\\n",
       "\t4 & Lotus & Lotus Europa & 30.4 & 113 & 1.513 \\\\\n",
       "\t5 & Fiat & Fiat X1-9 & 27.3 & 66 & 1.935 \\\\\n",
       "\t6 & Porsche & Porsche 914-2 & 26.0 & 91 & 2.14 \\\\\n",
       "\\end{tabular}\n"
      ],
      "text/plain": [
       "6×5 DataFrame\n",
       "│ Row │ Manufacturer │ Model         │ MPG      │ Horsepower │ weight   │\n",
       "│     │ \u001b[90mString\u001b[39m       │ \u001b[90mString\u001b[39m        │ \u001b[90mFloat64?\u001b[39m │ \u001b[90mInt64?\u001b[39m     │ \u001b[90mFloat64?\u001b[39m │\n",
       "├─────┼──────────────┼───────────────┼──────────┼────────────┼──────────┤\n",
       "│ 1   │ Toyota       │ Toyota Camry  │ \u001b[90mmissing\u001b[39m  │ \u001b[90mmissing\u001b[39m    │ \u001b[90mmissing\u001b[39m  │\n",
       "│ 2   │ Fiat         │ Fiat 128      │ 32.4     │ 66         │ 2.2      │\n",
       "│ 3   │ Honda        │ Honda Civic   │ 30.4     │ 52         │ 1.615    │\n",
       "│ 4   │ Lotus        │ Lotus Europa  │ 30.4     │ 113        │ 1.513    │\n",
       "│ 5   │ Fiat         │ Fiat X1-9     │ 27.3     │ 66         │ 1.935    │\n",
       "│ 6   │ Porsche      │ Porsche 914-2 │ 26.0     │ 91         │ 2.14     │"
      ]
     },
     "execution_count": 20,
     "metadata": {},
     "output_type": "execute_result"
    }
   ],
   "source": [
    "# Left join the \"models\" and \"carsHead\" DataFrames\n",
    "carInfo = join(\n",
    "    models, \n",
    "    carsHead[:, [:Model, :MPG, :Horsepower, :weight]], \n",
    "    on = :Model, kind = :left)"
   ]
  },
  {
   "cell_type": "code",
   "execution_count": 21,
   "metadata": {},
   "outputs": [
    {
     "data": {
      "text/html": [
       "<table class=\"data-frame\"><thead><tr><th></th><th>cylinders</th><th>count</th></tr><tr><th></th><th>Int64</th><th>Int64</th></tr></thead><tbody><p>3 rows × 2 columns</p><tr><th>1</th><td>4</td><td>11</td></tr><tr><th>2</th><td>6</td><td>7</td></tr><tr><th>3</th><td>8</td><td>14</td></tr></tbody></table>"
      ],
      "text/latex": [
       "\\begin{tabular}{r|cc}\n",
       "\t& cylinders & count\\\\\n",
       "\t\\hline\n",
       "\t& Int64 & Int64\\\\\n",
       "\t\\hline\n",
       "\t1 & 4 & 11 \\\\\n",
       "\t2 & 6 & 7 \\\\\n",
       "\t3 & 8 & 14 \\\\\n",
       "\\end{tabular}\n"
      ],
      "text/plain": [
       "3×2 DataFrame\n",
       "│ Row │ cylinders │ count │\n",
       "│     │ \u001b[90mInt64\u001b[39m     │ \u001b[90mInt64\u001b[39m │\n",
       "├─────┼───────────┼───────┤\n",
       "│ 1   │ 4         │ 11    │\n",
       "│ 2   │ 6         │ 7     │\n",
       "│ 3   │ 8         │ 14    │"
      ]
     },
     "execution_count": 21,
     "metadata": {},
     "output_type": "execute_result"
    }
   ],
   "source": [
    "# Create a new DataFrame which provides grouped counts\n",
    "cylSummary = by(mtcars, :cylinders, d -> DataFrame(count = nrow(d)))"
   ]
  },
  {
   "cell_type": "code",
   "execution_count": 22,
   "metadata": {},
   "outputs": [
    {
     "data": {
      "text/html": [
       "<table class=\"data-frame\"><thead><tr><th></th><th>cylinders</th><th>MPG_mean</th></tr><tr><th></th><th>Int64</th><th>Float64</th></tr></thead><tbody><p>3 rows × 2 columns</p><tr><th>1</th><td>4</td><td>26.6636</td></tr><tr><th>2</th><td>6</td><td>19.7429</td></tr><tr><th>3</th><td>8</td><td>15.1</td></tr></tbody></table>"
      ],
      "text/latex": [
       "\\begin{tabular}{r|cc}\n",
       "\t& cylinders & MPG\\_mean\\\\\n",
       "\t\\hline\n",
       "\t& Int64 & Float64\\\\\n",
       "\t\\hline\n",
       "\t1 & 4 & 26.6636 \\\\\n",
       "\t2 & 6 & 19.7429 \\\\\n",
       "\t3 & 8 & 15.1 \\\\\n",
       "\\end{tabular}\n"
      ],
      "text/plain": [
       "3×2 DataFrame\n",
       "│ Row │ cylinders │ MPG_mean │\n",
       "│     │ \u001b[90mInt64\u001b[39m     │ \u001b[90mFloat64\u001b[39m  │\n",
       "├─────┼───────────┼──────────┤\n",
       "│ 1   │ 4         │ 26.6636  │\n",
       "│ 2   │ 6         │ 19.7429  │\n",
       "│ 3   │ 8         │ 15.1     │"
      ]
     },
     "execution_count": 22,
     "metadata": {},
     "output_type": "execute_result"
    }
   ],
   "source": [
    "# Create a new DataFrame which provides grouped averages\n",
    "mpgSummary = by(mtcars, :cylinders, :MPG => mean)"
   ]
  }
 ],
 "metadata": {
  "@webio": {
   "lastCommId": null,
   "lastKernelId": null
  },
  "kernelspec": {
   "display_name": "Julia 1.5.2",
   "language": "julia",
   "name": "julia-1.5"
  },
  "language_info": {
   "file_extension": ".jl",
   "mimetype": "application/julia",
   "name": "julia",
   "version": "1.5.2"
  }
 },
 "nbformat": 4,
 "nbformat_minor": 2
}
