{
 "cells": [
  {
   "cell_type": "markdown",
   "metadata": {},
   "source": [
    "## Julia Tutorial 002: DataFrames"
   ]
  },
  {
   "cell_type": "markdown",
   "metadata": {},
   "source": [
    "In this tutorial we will walk through how to: extract valuable summaries, rename columns, select columns, filter rows, sort rows, mutate the dataset to create new variables, join datasets, and create grouped summaries.   DataFrames.jl is a package in Julia that will help you manipulate data.   We will use the \"mtcars\" dataset from the RDatasets.jl package.    We will also make limited use of the StatsBase.jl package.  \n",
    "\n",
    "The DataFrames.jl documentation can be found here: https://juliadata.github.io/DataFrames.jl/stable/"
   ]
  },
  {
   "cell_type": "code",
   "execution_count": 2,
   "metadata": {
    "scrolled": true
   },
   "outputs": [],
   "source": [
    "#import Pkg\n",
    "#Pkg.add(\"DataFrames\")\n",
    "#Pkg.add(\"RDatasets\")\n",
    "#Pkg.add(\"StatsBase\")"
   ]
  },
  {
   "cell_type": "code",
   "execution_count": 3,
   "metadata": {},
   "outputs": [],
   "source": [
    "# Load required packages into the environment\n",
    "using DataFrames, RDatasets, StatsBase"
   ]
  },
  {
   "cell_type": "code",
   "execution_count": null,
   "metadata": {},
   "outputs": [],
   "source": [
    "# Load the \"mtcars\" dataset from the \"dataset\" R package\n",
    "mtcars = dataset(\"datasets\", \"mtcars\")"
   ]
  },
  {
   "cell_type": "code",
   "execution_count": 4,
   "metadata": {},
   "outputs": [
    {
     "ename": "LoadError",
     "evalue": "UndefVarError: mtcars not defined",
     "output_type": "error",
     "traceback": [
      "UndefVarError: mtcars not defined",
      "",
      "Stacktrace:",
      " [1] top-level scope at In[4]:1",
      " [2] include_string(::Function, ::Module, ::String, ::String) at .\\loading.jl:1091",
      " [3] execute_code(::String, ::String) at C:\\Users\\rbryant\\.julia\\packages\\IJulia\\rWZ9e\\src\\execute_request.jl:27",
      " [4] execute_request(::ZMQ.Socket, ::IJulia.Msg) at C:\\Users\\rbryant\\.julia\\packages\\IJulia\\rWZ9e\\src\\execute_request.jl:86",
      " [5] #invokelatest#1 at .\\essentials.jl:710 [inlined]",
      " [6] invokelatest at .\\essentials.jl:709 [inlined]",
      " [7] eventloop(::ZMQ.Socket) at C:\\Users\\rbryant\\.julia\\packages\\IJulia\\rWZ9e\\src\\eventloop.jl:8",
      " [8] (::IJulia.var\"#15#18\")() at .\\task.jl:356"
     ]
    }
   ],
   "source": [
    "# Return the class of the \"mtcars\" DataFrame\n",
    "typeof(mtcars)"
   ]
  },
  {
   "cell_type": "code",
   "execution_count": null,
   "metadata": {},
   "outputs": [],
   "source": [
    "# Return the dimensions of the \"mtcars\" DataFrame\n",
    "size(mtcars)"
   ]
  },
  {
   "cell_type": "code",
   "execution_count": null,
   "metadata": {},
   "outputs": [],
   "source": [
    "# Return the number of rows in the \"mtcars\" DataFrame\n",
    "nrow(mtcars)"
   ]
  },
  {
   "cell_type": "code",
   "execution_count": null,
   "metadata": {},
   "outputs": [],
   "source": [
    "# Return the number of columns in the \"mtcars\" DataFrame\n",
    "ncol(mtcars)"
   ]
  },
  {
   "cell_type": "code",
   "execution_count": null,
   "metadata": {},
   "outputs": [],
   "source": [
    "# Return a numerical summary of the \"mtcars\" DataFrame\n",
    "describe(mtcars)"
   ]
  },
  {
   "cell_type": "code",
   "execution_count": 5,
   "metadata": {},
   "outputs": [
    {
     "ename": "LoadError",
     "evalue": "UndefVarError: mtcars not defined",
     "output_type": "error",
     "traceback": [
      "UndefVarError: mtcars not defined",
      "",
      "Stacktrace:",
      " [1] top-level scope at In[5]:2",
      " [2] include_string(::Function, ::Module, ::String, ::String) at .\\loading.jl:1091",
      " [3] execute_code(::String, ::String) at C:\\Users\\rbryant\\.julia\\packages\\IJulia\\rWZ9e\\src\\execute_request.jl:27",
      " [4] execute_request(::ZMQ.Socket, ::IJulia.Msg) at C:\\Users\\rbryant\\.julia\\packages\\IJulia\\rWZ9e\\src\\execute_request.jl:86",
      " [5] #invokelatest#1 at .\\essentials.jl:710 [inlined]",
      " [6] invokelatest at .\\essentials.jl:709 [inlined]",
      " [7] eventloop(::ZMQ.Socket) at C:\\Users\\rbryant\\.julia\\packages\\IJulia\\rWZ9e\\src\\eventloop.jl:8",
      " [8] (::IJulia.var\"#15#18\")() at .\\task.jl:356"
     ]
    }
   ],
   "source": [
    "# Isolate the variable \"MPG\" and return a numerical summary\n",
    "mpg = mtcars[:MPG]\n",
    "describe(mpg)"
   ]
  },
  {
   "cell_type": "code",
   "execution_count": null,
   "metadata": {},
   "outputs": [],
   "source": [
    "# Rename multiple columns of the \"mtcars\" DataFrame\n",
    "mtcars = rename(mtcars, :Cyl => :cylinders, :VS => :Engine);"
   ]
  },
  {
   "cell_type": "code",
   "execution_count": null,
   "metadata": {},
   "outputs": [],
   "source": [
    "# Use the exclamation point shortcut to rename columns and make these changes to the object\n",
    "rename!(mtcars, :HP => :Horsepower, :WT => :weight);"
   ]
  },
  {
   "cell_type": "code",
   "execution_count": 6,
   "metadata": {},
   "outputs": [
    {
     "ename": "LoadError",
     "evalue": "UndefVarError: mtcars not defined",
     "output_type": "error",
     "traceback": [
      "UndefVarError: mtcars not defined",
      "",
      "Stacktrace:",
      " [1] top-level scope at In[6]:2",
      " [2] include_string(::Function, ::Module, ::String, ::String) at .\\loading.jl:1091",
      " [3] execute_code(::String, ::String) at C:\\Users\\rbryant\\.julia\\packages\\IJulia\\rWZ9e\\src\\execute_request.jl:27",
      " [4] execute_request(::ZMQ.Socket, ::IJulia.Msg) at C:\\Users\\rbryant\\.julia\\packages\\IJulia\\rWZ9e\\src\\execute_request.jl:86",
      " [5] #invokelatest#1 at .\\essentials.jl:710 [inlined]",
      " [6] invokelatest at .\\essentials.jl:709 [inlined]",
      " [7] eventloop(::ZMQ.Socket) at C:\\Users\\rbryant\\.julia\\packages\\IJulia\\rWZ9e\\src\\eventloop.jl:8",
      " [8] (::IJulia.var\"#15#18\")() at .\\task.jl:356"
     ]
    }
   ],
   "source": [
    "# Eliminate the \"DRat\" column from the \"mtcars\" DataFrame, using the Not() function\n",
    "mtcars = mtcars[:, Not(:DRat)];"
   ]
  },
  {
   "cell_type": "code",
   "execution_count": null,
   "metadata": {},
   "outputs": [],
   "source": [
    "# Use the select() and Not() functions to eliminate the \"QSec\" column\n",
    "mtcars = select(mtcars, Not(:QSec));"
   ]
  },
  {
   "cell_type": "code",
   "execution_count": null,
   "metadata": {},
   "outputs": [],
   "source": [
    "# Select desired columns from the \"mtcars\" DataFrame\n",
    "mtcars = mtcars[:, [:Model, :MPG, :cylinders, :horsepower, :weight]]"
   ]
  },
  {
   "cell_type": "code",
   "execution_count": null,
   "metadata": {},
   "outputs": [],
   "source": [
    "# Filter rows of the \"mtcars\" DataFrame\n",
    "fourCyl = mtcars[mtcars[:cylinders] .== 4, :];\n",
    "sixCyl = mtcars[mtcars[:cylinders] .== 6, :];\n",
    "eightCyl = mtcars[mtcars[:cylinders] .== 8, :]"
   ]
  },
  {
   "cell_type": "code",
   "execution_count": null,
   "metadata": {},
   "outputs": [],
   "source": [
    "# Sort rows of the \"mtcars\" DataFrame\n",
    "sort!(mtcars, :MPG, rev = true)"
   ]
  },
  {
   "cell_type": "code",
   "execution_count": null,
   "metadata": {},
   "outputs": [],
   "source": [
    "# Create new variables in the \"mtcars\" DataFrame\n",
    "mtcars[:powerToWeightRatio] = mtcars[:horsepower] ./ mtcars[:WT];\n",
    "mtcars[:horsepowerTimesMPG] = mtcars[:horsepower] .* mtcars[:MPG];"
   ]
  },
  {
   "cell_type": "code",
   "execution_count": null,
   "metadata": {},
   "outputs": [],
   "source": [
    "# Look at the first six rows of the \"mtcars\" DataFrame\n",
    "carsHead = head(mtcars, 6)\n",
    "carsHead"
   ]
  },
  {
   "cell_type": "code",
   "execution_count": null,
   "metadata": {},
   "outputs": [],
   "source": [
    "# Create a new DataFrame called \"models\"\n",
    "models = DataFrame(\n",
    "    Manufacturer = [\"Toyota\", \"Fiat\", \"Honda\", \"Lotus\", \"Fiat\", \"Porsche\"],\n",
    "    Model = [\"Toyota Camry\", \"Fiat 128\", \"Honda Civic\", \"Lotus Europa\", \"Fiat X1-9\", \"Porsche 914-2\"]\n",
    "    )"
   ]
  },
  {
   "cell_type": "code",
   "execution_count": null,
   "metadata": {},
   "outputs": [],
   "source": [
    "# Left join the \"models\" and \"carsHead\" DataFrames\n",
    "carInfo = join(\n",
    "    models, \n",
    "    carsHead[:, [:Model, :MPG, :Horsepower, :weight]], \n",
    "    on = :Model, kind = :left)"
   ]
  },
  {
   "cell_type": "code",
   "execution_count": null,
   "metadata": {},
   "outputs": [],
   "source": [
    "# Create a new DataFrame which provides grouped counts\n",
    "cylSummary = by(mtcars, :cylinders, d -> DataFrame(count = nrow(d)))"
   ]
  },
  {
   "cell_type": "code",
   "execution_count": null,
   "metadata": {},
   "outputs": [],
   "source": [
    "# Create a new DataFrame which provides grouped averages\n",
    "mpgSummary = by(mtcars, :cylinders, :MPG => mean)"
   ]
  }
 ],
 "metadata": {
  "@webio": {
   "lastCommId": null,
   "lastKernelId": null
  },
  "kernelspec": {
   "display_name": "Julia 1.5.2",
   "language": "julia",
   "name": "julia-1.5"
  },
  "language_info": {
   "file_extension": ".jl",
   "mimetype": "application/julia",
   "name": "julia",
   "version": "1.5.2"
  }
 },
 "nbformat": 4,
 "nbformat_minor": 2
}
